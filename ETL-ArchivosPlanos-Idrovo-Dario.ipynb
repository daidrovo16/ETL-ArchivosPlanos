{
  "nbformat": 4,
  "nbformat_minor": 0,
  "metadata": {
    "colab": {
      "name": "Untitled0.ipynb",
      "provenance": [],
      "include_colab_link": true
    },
    "kernelspec": {
      "name": "python3",
      "display_name": "Python 3"
    },
    "language_info": {
      "name": "python"
    }
  },
  "cells": [
    {
      "cell_type": "markdown",
      "metadata": {
        "id": "view-in-github",
        "colab_type": "text"
      },
      "source": [
        "<a href=\"https://colab.research.google.com/github/daidrovo16/ETL-ArchivosPlanos/blob/main/ETL-ArchivosPlanos-Idrovo-Dario.ipynb\" target=\"_parent\"><img src=\"https://colab.research.google.com/assets/colab-badge.svg\" alt=\"Open In Colab\"/></a>"
      ]
    },
    {
      "cell_type": "code",
      "execution_count": null,
      "metadata": {
        "id": "9w6ZHihjUuHh"
      },
      "outputs": [],
      "source": [
        "import glob\n",
        "import pandas as pd\n",
        "import xml.etree.ElementTree as ET\n",
        "from datetime import datetime"
      ]
    },
    {
      "cell_type": "code",
      "source": [
        "!wget https://cf-courses-data.s3.us.cloud-object-storage.appdomain.cloud/IBMDeveloperSkillsNetwork-PY0221EN-SkillsNetwork/labs/module%206/Lab%20-%20Extract%20Transform%20Load/data/datasource.zip"
      ],
      "metadata": {
        "colab": {
          "base_uri": "https://localhost:8080/"
        },
        "id": "paH1vuzXUvgN",
        "outputId": "3bc2865c-9b54-4d0f-a944-2f8f12b90e5c"
      },
      "execution_count": null,
      "outputs": [
        {
          "output_type": "stream",
          "name": "stdout",
          "text": [
            "--2022-01-13 01:26:45--  https://cf-courses-data.s3.us.cloud-object-storage.appdomain.cloud/IBMDeveloperSkillsNetwork-PY0221EN-SkillsNetwork/labs/module%206/Lab%20-%20Extract%20Transform%20Load/data/datasource.zip\n",
            "Resolving cf-courses-data.s3.us.cloud-object-storage.appdomain.cloud (cf-courses-data.s3.us.cloud-object-storage.appdomain.cloud)... 169.63.118.104\n",
            "Connecting to cf-courses-data.s3.us.cloud-object-storage.appdomain.cloud (cf-courses-data.s3.us.cloud-object-storage.appdomain.cloud)|169.63.118.104|:443... connected.\n",
            "HTTP request sent, awaiting response... 200 OK\n",
            "Length: 4249 (4.1K) [application/zip]\n",
            "Saving to: ‘datasource.zip.1’\n",
            "\n",
            "datasource.zip.1    100%[===================>]   4.15K  --.-KB/s    in 0s      \n",
            "\n",
            "2022-01-13 01:26:45 (604 MB/s) - ‘datasource.zip.1’ saved [4249/4249]\n",
            "\n"
          ]
        }
      ]
    },
    {
      "cell_type": "code",
      "source": [
        "!unzip datasource.zip -d dealership_data"
      ],
      "metadata": {
        "colab": {
          "base_uri": "https://localhost:8080/"
        },
        "id": "VECb98bkUxzW",
        "outputId": "43f6321e-ab72-46e5-cabf-a38647c3e63b"
      },
      "execution_count": null,
      "outputs": [
        {
          "output_type": "stream",
          "name": "stdout",
          "text": [
            "Archive:  datasource.zip\n",
            "replace dealership_data/used_car_prices1.csv? [y]es, [n]o, [A]ll, [N]one, [r]ename: y\n",
            "  inflating: dealership_data/used_car_prices1.csv  \n",
            "replace dealership_data/used_car_prices2.csv? [y]es, [n]o, [A]ll, [N]one, [r]ename: y\n",
            "  inflating: dealership_data/used_car_prices2.csv  \n",
            "replace dealership_data/used_car_prices3.csv? [y]es, [n]o, [A]ll, [N]one, [r]ename: y\n",
            "  inflating: dealership_data/used_car_prices3.csv  \n",
            "replace dealership_data/used_car_prices1.json? [y]es, [n]o, [A]ll, [N]one, [r]ename: y\n",
            "  inflating: dealership_data/used_car_prices1.json  \n",
            "replace dealership_data/used_car_prices2.json? [y]es, [n]o, [A]ll, [N]one, [r]ename: y\n",
            "  inflating: dealership_data/used_car_prices2.json  \n",
            "replace dealership_data/used_car_prices3.json? [y]es, [n]o, [A]ll, [N]one, [r]ename: y\n",
            "  inflating: dealership_data/used_car_prices3.json  \n",
            "replace dealership_data/used_car_prices1.xml? [y]es, [n]o, [A]ll, [N]one, [r]ename: y\n",
            "  inflating: dealership_data/used_car_prices1.xml  \n",
            "replace dealership_data/used_car_prices2.xml? [y]es, [n]o, [A]ll, [N]one, [r]ename: y\n",
            "  inflating: dealership_data/used_car_prices2.xml  \n",
            "replace dealership_data/used_car_prices3.xml? [y]es, [n]o, [A]ll, [N]one, [r]ename: A\n",
            "  inflating: dealership_data/used_car_prices3.xml  \n"
          ]
        }
      ]
    },
    {
      "cell_type": "markdown",
      "source": [
        "## **ESTABLECER LA RUTA DEL ARCHIVO DESTINO**"
      ],
      "metadata": {
        "id": "QdG0MG4W9cjj"
      }
    },
    {
      "cell_type": "code",
      "source": [
        "tmpfile = \"dealership_temp.tmp\" # store all extracted data\n",
        "logfile = \"dealership_logfile.txt\" # all event logs will be stored\n",
        "targetfile = \"dealership_transformed_data.csv\" # transformed data is stored"
      ],
      "metadata": {
        "id": "B4b7cyMgUz8e"
      },
      "execution_count": null,
      "outputs": []
    },
    {
      "cell_type": "markdown",
      "source": [
        "**EXTRACCION CSV**"
      ],
      "metadata": {
        "id": "qgsFipxS9xE9"
      }
    },
    {
      "cell_type": "code",
      "source": [
        "def extract_from_csv(file_to_process): \n",
        "    dataframe = pd.read_csv(file_to_process) \n",
        "    return dataframe"
      ],
      "metadata": {
        "id": "2k11NLTjU37o"
      },
      "execution_count": null,
      "outputs": []
    },
    {
      "cell_type": "markdown",
      "source": [
        "**EXTRACCION JSON**"
      ],
      "metadata": {
        "id": "CwY-pkUr90pc"
      }
    },
    {
      "cell_type": "code",
      "source": [
        "def extract_from_json(file_to_process):\n",
        "    dataframe = pd.read_json(file_to_process,lines=True)\n",
        "    return dataframe"
      ],
      "metadata": {
        "id": "WvQOrDrDVNBl"
      },
      "execution_count": null,
      "outputs": []
    },
    {
      "cell_type": "markdown",
      "source": [
        "**EXTRACCION XML**"
      ],
      "metadata": {
        "id": "oYV3s55n94c1"
      }
    },
    {
      "cell_type": "code",
      "source": [
        "def extract_from_xml(file_to_process):\n",
        "\n",
        "    dataframe = pd.DataFrame(columns=['car_model','year_of_manufacture','price', 'fuel'])\n",
        "    tree = ET.parse(file_to_process) \n",
        "    root = tree.getroot() \n",
        "    for person in root: \n",
        "        car_model = person.find(\"car_model\").text \n",
        "        year_of_manufacture = int(person.find(\"year_of_manufacture\").text)\n",
        "        price = float(person.find(\"price\").text) \n",
        "        fuel = person.find(\"fuel\").text \n",
        "        dataframe = dataframe.append({\"car_model\":car_model, \"year_of_manufacture\":year_of_manufacture, \"price\":price, \"fuel\":fuel}, ignore_index=True) \n",
        "        return dataframe"
      ],
      "metadata": {
        "id": "MyNiZXKOVNK5"
      },
      "execution_count": null,
      "outputs": []
    },
    {
      "cell_type": "markdown",
      "source": [
        "**LLAMADA DE LA FUNCION DE EXTRACCION, HACIENDO USO DE LAS FUNCIONES DE CSV, JSON, XML.**"
      ],
      "metadata": {
        "id": "16GhPGmq-AsO"
      }
    },
    {
      "cell_type": "code",
      "source": [
        "def extract():\n",
        "      extracted_data = pd.DataFrame(columns=['car_model','year_of_manufacture','price', 'fuel']) \n",
        "    #for csv files\n",
        "      for csvfile in glob.glob(\"dealership_data/*.csv\"):\n",
        "          extracted_data = extracted_data.append(extract_from_csv(csvfile), ignore_index=True)\n",
        "    #for json files\n",
        "      for jsonfile in glob.glob(\"dealership_data/*.json\"):\n",
        "          extracted_data = extracted_data.append(extract_from_json(jsonfile), ignore_index=True)\n",
        "    #for xml files\n",
        "      for xmlfile in glob.glob(\"dealership_data/*.xml\"):\n",
        "          extracted_data = extracted_data.append(extract_from_xml(xmlfile), ignore_index=True)\n",
        "      return extracted_data"
      ],
      "metadata": {
        "id": "eMu9XnnTZNQd"
      },
      "execution_count": null,
      "outputs": []
    },
    {
      "cell_type": "markdown",
      "source": [
        "**FASE DE TRANSFORMACION**"
      ],
      "metadata": {
        "id": "ZzzrV3cg-VtV"
      }
    },
    {
      "cell_type": "code",
      "source": [
        "def transform(data):\n",
        "       data['price'] = round(data.price, 2)\n",
        "       return data"
      ],
      "metadata": {
        "id": "uiUUGaLrasej"
      },
      "execution_count": null,
      "outputs": []
    },
    {
      "cell_type": "markdown",
      "source": [
        "**SUBIR Y CARGAR LOS ARCHIVOS**"
      ],
      "metadata": {
        "id": "-Sbw34qn-pDS"
      }
    },
    {
      "cell_type": "code",
      "source": [
        "def load(targetfile,data_to_load):\n",
        "    data_to_load.to_csv(targetfile)"
      ],
      "metadata": {
        "id": "k1nICGI0awKx"
      },
      "execution_count": null,
      "outputs": []
    },
    {
      "cell_type": "code",
      "source": [
        "def log(message):\n",
        "    timestamp_format=\"%H:%M:%S-%h-%d-%Y\"\n",
        "    #Hour-Minute-Second-MonthName-Day-Year\n",
        "    now = datetime.now() # get current timestamp\n",
        "    timestamp = now.strftime(timestamp_format)\n",
        "    with open(\"dealership_logfile.txt\",\"a\") as f: f.write(timestamp + ',' + message + 'n')"
      ],
      "metadata": {
        "id": "yi-mx0Yoa0NT"
      },
      "execution_count": null,
      "outputs": []
    },
    {
      "cell_type": "markdown",
      "source": [
        "**REGISTRO DE INICIO Y FINALIZACION DE LOS PROCESOS:**\n",
        "> ETL\n",
        "\n",
        "> TRANSFORMACION\n",
        "\n",
        "> CARGA\n",
        "\n",
        "\n",
        "\n",
        "\n",
        "\n"
      ],
      "metadata": {
        "id": "S8VJnAJz_sj2"
      }
    },
    {
      "cell_type": "code",
      "source": [
        "log(\"ETL Job Started\")"
      ],
      "metadata": {
        "id": "T7Pc6IC1a3Pz"
      },
      "execution_count": null,
      "outputs": []
    },
    {
      "cell_type": "code",
      "source": [
        "log(\"Extract phase Started\")\n",
        "extracted_data = extract() \n",
        "log(\"Extract phase Ended\")"
      ],
      "metadata": {
        "id": "_ZFnYNysa5sH"
      },
      "execution_count": null,
      "outputs": []
    },
    {
      "cell_type": "code",
      "source": [
        "log (\"Transformation phase started\")\n",
        "transformed_data = transform(extracted_data)\n",
        "log(\"Transform phase Ended\")"
      ],
      "metadata": {
        "id": "fwHuE-Q-bRwL"
      },
      "execution_count": null,
      "outputs": []
    },
    {
      "cell_type": "code",
      "source": [
        "log(\"Load phase Started\")\n",
        "load(targetfile,transformed_data)\n",
        "log(\"Load phase Ended\")"
      ],
      "metadata": {
        "id": "9YoF7c34bTsk"
      },
      "execution_count": null,
      "outputs": []
    },
    {
      "cell_type": "code",
      "source": [
        "log(\"ETL Job Ended\")"
      ],
      "metadata": {
        "id": "HsZMONMcdI4I"
      },
      "execution_count": null,
      "outputs": []
    },
    {
      "cell_type": "code",
      "source": [
        "from google.colab import drive\n",
        "drive.mount('/content/drive')"
      ],
      "metadata": {
        "colab": {
          "base_uri": "https://localhost:8080/"
        },
        "id": "JfIw0mRqUQk9",
        "outputId": "61a62383-ddcc-4fcb-93a0-423b85f674c9"
      },
      "execution_count": 23,
      "outputs": [
        {
          "output_type": "stream",
          "name": "stdout",
          "text": [
            "Mounted at /content/drive\n"
          ]
        }
      ]
    }
  ]
}